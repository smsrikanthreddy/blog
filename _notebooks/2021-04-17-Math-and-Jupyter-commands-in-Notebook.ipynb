{
 "cells": [
  {
   "cell_type": "markdown",
   "id": "continuous-disability",
   "metadata": {},
   "source": [
    "# Math and Jupyter Commands\n",
    "> A tutorial on latex commands for math and jupyter\n",
    "\n",
    "- toc: true \n",
    "- badges: true\n",
    "- comments: true\n",
    "- categories: [jupyter]\n",
    "- image: images/latex/logo.png"
   ]
  },
  {
   "cell_type": "markdown",
   "id": "stable-spider",
   "metadata": {},
   "source": [
    "Here in this notebook, we will be looking into \"how to write math equations in jupyter notebook\". The reason for writing this notebook is, I want to have all these instructions at once instaed of wrangling around different websites"
   ]
  },
  {
   "cell_type": "markdown",
   "id": "vulnerable-barbados",
   "metadata": {},
   "source": [
    "### Lets start with math equation"
   ]
  },
  {
   "cell_type": "markdown",
   "id": "italic-thickness",
   "metadata": {},
   "source": [
    "The math equation cell needs to be in Markdown mode"
   ]
  },
  {
   "cell_type": "markdown",
   "id": "clear-debate",
   "metadata": {},
   "source": [
    "$ \\hat{y} = \\hat{\\beta}_{0} + \\sum \\limits_{j=1} ^{p} X_{j}\\hat{\\beta}_{j} $"
   ]
  },
  {
   "cell_type": "markdown",
   "id": "informational-football",
   "metadata": {},
   "source": [
    " ```\n",
    "$ \\hat{y} = \\hat{\\beta}_{0} + \\sum \\limits_{j=1} ^{p} X_{j}\\hat{\\beta}_{j} $\n",
    "```"
   ]
  },
  {
   "cell_type": "code",
   "execution_count": null,
   "id": "heard-trinidad",
   "metadata": {},
   "outputs": [],
   "source": []
  }
 ],
 "metadata": {
  "kernelspec": {
   "display_name": "Python 3",
   "language": "python",
   "name": "python3"
  },
  "language_info": {
   "codemirror_mode": {
    "name": "ipython",
    "version": 3
   },
   "file_extension": ".py",
   "mimetype": "text/x-python",
   "name": "python",
   "nbconvert_exporter": "python",
   "pygments_lexer": "ipython3",
   "version": "3.7.7"
  }
 },
 "nbformat": 4,
 "nbformat_minor": 5
}
