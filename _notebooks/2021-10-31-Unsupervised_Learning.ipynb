{
 "cells": [
  {
   "cell_type": "markdown",
   "id": "imposed-fighter",
   "metadata": {},
   "source": [
    "# Unsupervised Learning\n",
    "> A tutorial on unsupervised Learning\n",
    "\n",
    "- toc: true \n",
    "- badges: true\n",
    "- comments: true\n",
    "- categories: [jupyter]\n",
    "- image: images/unsupervised/logo.png"
   ]
  },
  {
   "cell_type": "markdown",
   "id": "widespread-tuning",
   "metadata": {},
   "source": [
    "There are two types of unsupervised learning\n",
    "     `.1  Transformations of the Dataset`\n",
    "     `.2 Clustering`"
   ]
  },
  {
   "cell_type": "code",
   "execution_count": null,
   "id": "cardiac-shelf",
   "metadata": {},
   "outputs": [],
   "source": []
  }
 ],
 "metadata": {
  "kernelspec": {
   "display_name": "Python 3",
   "language": "python",
   "name": "python3"
  },
  "language_info": {
   "codemirror_mode": {
    "name": "ipython",
    "version": 3
   },
   "file_extension": ".py",
   "mimetype": "text/x-python",
   "name": "python",
   "nbconvert_exporter": "python",
   "pygments_lexer": "ipython3",
   "version": "3.7.7"
  }
 },
 "nbformat": 4,
 "nbformat_minor": 5
}
