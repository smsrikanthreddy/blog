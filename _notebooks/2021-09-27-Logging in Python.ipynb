{
 "cells": [
  {
   "cell_type": "code",
   "execution_count": null,
   "id": "leading-tongue",
   "metadata": {},
   "outputs": [],
   "source": [
    "# Logging in Python\n",
    "> A tutorial on python logging\n",
    "\n",
    "- toc: true \n",
    "- badges: true\n",
    "- comments: true\n",
    "- categories: [jupyter]\n",
    "- image: images/Logging/logo.png"
   ]
  },
  {
   "cell_type": "markdown",
   "id": "conservative-chick",
   "metadata": {},
   "source": [
    "### Logging In Python"
   ]
  },
  {
   "cell_type": "markdown",
   "id": "duplicate-wilson",
   "metadata": {},
   "source": [
    "In this notebook we will learn how to do logging in python. Logging is very important once the project grows beyond a POC stage. Having a logging leads to better debugging, proper error identification, good standard to have. So we'll going to see how to apply logging through few examples"
   ]
  },
  {
   "cell_type": "markdown",
   "id": "linear-burner",
   "metadata": {},
   "source": [
    "Logging has differnt configuration, which are important in implementing logging,\n",
    "1. level\n",
    "2. formatter\n",
    "3. Handlers\n",
    "4. Filters"
   ]
  },
  {
   "cell_type": "markdown",
   "id": "swedish-garlic",
   "metadata": {},
   "source": [
    "##### Logging Level"
   ]
  },
  {
   "cell_type": "markdown",
   "id": "light-testament",
   "metadata": {},
   "source": [
    "1. DEBUG - Detailed information, typically of interest only when diagnosing problems.\n",
    "2. INFO  - Confirmation that things are working as expected.\n",
    "3. WARNING - An indication that something unexpected happened, or indicative of some problem in the near future (e.g. ‘disk space low’). The software is still working as expected.\n",
    "4. ERROR - Due to a more serious problem, the software has not been able to perform some function.\n",
    "5. CRITICAL - A serious error, indicating that the program itself may be unable to continue running."
   ]
  },
  {
   "cell_type": "code",
   "execution_count": null,
   "id": "circular-columbus",
   "metadata": {},
   "outputs": [],
   "source": [
    "Level Numeric value\n",
    "=====================\n",
    "CRITICAL  50\n",
    "ERROR     40\n",
    "WARNING   30\n",
    "INFO      20\n",
    "DEBUG     10\n",
    "NOTSET    0"
   ]
  },
  {
   "cell_type": "markdown",
   "id": "adolescent-phenomenon",
   "metadata": {},
   "source": [
    "##### Logging Formatter"
   ]
  },
  {
   "cell_type": "markdown",
   "id": "prescription-ladder",
   "metadata": {},
   "source": [
    "logging formatter helps formating the message which we write to disk or console. Formatters specify the layout of log records in the final output,\n",
    "\n",
    "Example,\n",
    "1. asctime - %(asctime)s\n",
    "2. created - %(created)f\n",
    "3. filename - %(filename)s"
   ]
  },
  {
   "cell_type": "markdown",
   "id": "eight-heath",
   "metadata": {},
   "source": [
    "##### Logging Handlers"
   ]
  },
  {
   "cell_type": "markdown",
   "id": "manual-accommodation",
   "metadata": {},
   "source": [
    "Handlers send the log records (created by loggers) to the appropriate destination. Filters provide a finer grained facility for determining which log records to output."
   ]
  },
  {
   "cell_type": "markdown",
   "id": "incorrect-acrylic",
   "metadata": {},
   "source": [
    "1. queue_handler = QueueHandler(que)\n",
    "2. stream_handler = logging.StreamHandler()\n",
    "3. file_handler = logging.FileHandler(\"csr_logfile.log\")"
   ]
  },
  {
   "cell_type": "code",
   "execution_count": null,
   "id": "external-venezuela",
   "metadata": {},
   "outputs": [],
   "source": []
  },
  {
   "cell_type": "code",
   "execution_count": null,
   "id": "obvious-compound",
   "metadata": {},
   "outputs": [],
   "source": []
  },
  {
   "cell_type": "markdown",
   "id": "cleared-syndrome",
   "metadata": {},
   "source": [
    "### References"
   ]
  },
  {
   "cell_type": "markdown",
   "id": "indie-dayton",
   "metadata": {},
   "source": [
    "1. Corey Schaffer python Tutorials (https://www.youtube.com/channel/UCCezIgC97PvUuR4_gbFUs5g)\n",
    "2. https://docs.python.org/3/library/logging.handlers.html#module-logging.handlers\n",
    "3. https://docs.python.org/3/library/logging.html#logrecord-attributes\n",
    "4. https://docs.python.org/3/howto/logging-cookbook.html#logging-cookbook\n",
    "5. https://docs.python.org/3/library/logging.html#logrecord-attributes"
   ]
  },
  {
   "cell_type": "code",
   "execution_count": null,
   "id": "cloudy-ballet",
   "metadata": {},
   "outputs": [],
   "source": []
  }
 ],
 "metadata": {
  "kernelspec": {
   "display_name": "Python 3",
   "language": "python",
   "name": "python3"
  },
  "language_info": {
   "codemirror_mode": {
    "name": "ipython",
    "version": 3
   },
   "file_extension": ".py",
   "mimetype": "text/x-python",
   "name": "python",
   "nbconvert_exporter": "python",
   "pygments_lexer": "ipython3",
   "version": "3.7.7"
  }
 },
 "nbformat": 4,
 "nbformat_minor": 5
}
