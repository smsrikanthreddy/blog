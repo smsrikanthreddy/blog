{
 "cells": [
  {
   "cell_type": "markdown",
   "id": "aboriginal-bearing",
   "metadata": {},
   "source": [
    "# Prallel Computing in Python\n",
    "> A tutorial on parallel computing\n",
    "\n",
    "- toc: true \n",
    "- badges: true\n",
    "- comments: true\n",
    "- categories: [jupyter]\n",
    "- image: images/Prallel_Computing/logo_2.jpg"
   ]
  },
  {
   "cell_type": "markdown",
   "id": "copyrighted-worry",
   "metadata": {},
   "source": [
    "In this notebook, we'll learn how to do parallel computing in python. Why we need prallel computing, how python works internally with os to execute commands in python and what are the different libraries are there to implement them fast"
   ]
  },
  {
   "cell_type": "code",
   "execution_count": null,
   "id": "integrated-calgary",
   "metadata": {},
   "outputs": [],
   "source": []
  }
 ],
 "metadata": {
  "kernelspec": {
   "display_name": "Python 3",
   "language": "python",
   "name": "python3"
  },
  "language_info": {
   "codemirror_mode": {
    "name": "ipython",
    "version": 3
   },
   "file_extension": ".py",
   "mimetype": "text/x-python",
   "name": "python",
   "nbconvert_exporter": "python",
   "pygments_lexer": "ipython3",
   "version": "3.7.7"
  }
 },
 "nbformat": 4,
 "nbformat_minor": 5
}
