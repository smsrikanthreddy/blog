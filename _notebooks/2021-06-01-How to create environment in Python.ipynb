{
 "cells": [
  {
   "cell_type": "markdown",
   "id": "alive-england",
   "metadata": {},
   "source": [
    "# How to create Virtual Environment in Python\n",
    "> A tutorial on environements in python\n",
    "\n",
    "- toc: true \n",
    "- badges: true\n",
    "- comments: true\n",
    "- categories: [jupyter]\n",
    "- image: images/Venv/logo.png"
   ]
  },
  {
   "cell_type": "markdown",
   "id": "applied-comparative",
   "metadata": {},
   "source": [
    "This notebook shows, how to create python virtual environment"
   ]
  },
  {
   "cell_type": "markdown",
   "id": "polyphonic-apartment",
   "metadata": {},
   "source": [
    "### Different ways of creating python virtual environment"
   ]
  },
  {
   "cell_type": "markdown",
   "id": "bound-actor",
   "metadata": {},
   "source": [
    "1. Using yml file\n",
    "2. Using conda create command"
   ]
  },
  {
   "cell_type": "markdown",
   "id": "headed-minnesota",
   "metadata": {},
   "source": [
    "### 1. Using yml file"
   ]
  },
  {
   "cell_type": "markdown",
   "id": "gentle-anime",
   "metadata": {},
   "source": [
    "- First create environment.yml file\n",
    "- conda env create -f environment.yml"
   ]
  },
  {
   "cell_type": "markdown",
   "id": "worthy-audience",
   "metadata": {},
   "source": [
    "###### environment.yml\n",
    "```\n",
    "name: tablenv \n",
    "channels:\n",
    "  - defaults\n",
    "dependencies:\n",
    "  - numpy=1.16.2\n",
    "  - pandas=0.24.2\n",
    "  - matplotlib=3.0.3\n",
    "```"
   ]
  },
  {
   "cell_type": "markdown",
   "id": "nonprofit-december",
   "metadata": {},
   "source": [
    "### 2. Using conda create command"
   ]
  },
  {
   "cell_type": "markdown",
   "id": "objective-queue",
   "metadata": {},
   "source": [
    "```\n",
    "* conda create --name tablenv <br>\n",
    "#### for specific version\n",
    "* conda create -n tablenv python=3.7.7 \n",
    "```"
   ]
  },
  {
   "cell_type": "markdown",
   "id": "bearing-marker",
   "metadata": {},
   "source": [
    "### Other steps\n",
    "```\n",
    "###### to activate conda env\n",
    "* conda activate tablenv \n",
    "###### to deactivate env\n",
    "* conda deactivate tablenv \n",
    "###### to make available for jupyter notebook\n",
    "* conda install -c anaconda ipykernel\n",
    "###### to make available for jupyter notebook\n",
    "* ipython kernel install --user --name=tablenv\n",
    "###### to remove environment\n",
    "* conda env remove -n tablenv\n",
    "###### list the environment \n",
    "*  conda env list\n",
    "*  conda info -e\n",
    "```"
   ]
  },
  {
   "cell_type": "markdown",
   "id": "catholic-bryan",
   "metadata": {},
   "source": [
    "#### References\n",
    " - [conda.io](https://conda.io/projects/conda/en/latest/user-guide/tasks/manage-environments.html)\n",
    " - [anaconda-venv](https://docs.anaconda.com/anaconda/install/uninstall/)\n",
    " - [venv_research](https://uoa-eresearch.github.io/eresearch-cookbook/recipe/2014/11/20/conda/)"
   ]
  }
 ],
 "metadata": {
  "kernelspec": {
   "display_name": "Python 3",
   "language": "python",
   "name": "python3"
  },
  "language_info": {
   "codemirror_mode": {
    "name": "ipython",
    "version": 3
   },
   "file_extension": ".py",
   "mimetype": "text/x-python",
   "name": "python",
   "nbconvert_exporter": "python",
   "pygments_lexer": "ipython3",
   "version": "3.7.7"
  }
 },
 "nbformat": 4,
 "nbformat_minor": 5
}
